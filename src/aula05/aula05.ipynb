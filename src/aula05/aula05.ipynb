{
 "cells": [
  {
   "cell_type": "markdown",
   "metadata": {},
   "source": [
    "# Aula 05\n",
    "\n",
    "Sumário\n",
    "\n",
    "- [Aula 05](#aula-05)\n",
    "  - [Introdução](#introdução)\n",
    "  - [Bases de Dados](#bases-de-dados)\n",
    "\n",
    "## Introdução\n",
    "\n",
    "Vamos seguir o modelo didático do nosso livro-texto. Vamos simular todo um projeto de Aprendizado de Máquina como se fôssemos um cientista de dados contratado por uma empresa de mercado imobiliário. O passo-a-passo que seguiremos:\n",
    "\n",
    "1. Analisar o panorama geral.\n",
    "2. Obter os dados.\n",
    "3. Identificar e visualizar os dados para obter informações úteis.\n",
    "4. Preparar os dados para os algoritmos de AM.\n",
    "5. Selecionar e treinar um modelo.\n",
    "6. Aperfeiçoar o modelo.\n",
    "7. Apresentar a solução.\n",
    "8. Disponibilizar em produção, monitar e fazer a manutenção do sistema.\n",
    "\n",
    "## Bases de Dados\n",
    "\n",
    "As `bases de dados` das empresas são privadas, ou seja, restritas para uso interno. Entretanto, existem alguns sites que disponibilizam dezenas a centenas de `bases de dados` abertos, os quais podemos baixar para aprendermos os variados algoritmos de AM. Essas `bases de dados` abertas são utilizadas também como `benchmark` de novos modelos e métodos.\n",
    "\n",
    "A seguir uma lista de repositórios:\n",
    "\n",
    "* [UCI Irvine ML Repository](http://archive.ics.uci.edu/)\n",
    "* [Kaggle](https://www.kaggle.com/datasets)\n",
    "* [AWS](https://registry.opendata.aws/)\n",
    "\n",
    "Metaportal de dados\n",
    "\n",
    "* [Data Portals](http://dataportals.org/)\n",
    "\n",
    "Páginas com listagem de repositórios\n",
    "\n",
    "* [Wikipedia](https://en.wikipedia.org/wiki/List_of_datasets_for_machine-learning_research)\n",
    "* [Quora](https://www.quora.com/Where-can-I-find-large-datasets-open-to-the-public)\n",
    "* [Reddit](https://www.reddit.com/r/datasets)\n",
    "\n",
    "### A base de dados que será utilizada no nosso exemplo\n",
    "\n",
    "Vamos seguir com o livro e utilizar a mesma base de dados. O `github` do autor é [Ageron](https://github.com/ageron). Os códigos utilizados por ele para a última versão do seu livro é a [Handson ML3](https://github.com/ageron/handson-ml3/tree/main). A base de dados que vamos utilizar está disponível [nesta página](https://github.com/ageron/data/tree/main/housing).\n",
    "\n",
    "Para utilizar essa base você tem as seguintes opções:\n",
    "\n",
    "1. Baixar (ou clonar) o repositório [data](https://github.com/ageron/data/tree/main), e depois pegar somente a base que você quer. Esse caso é o recomendado se você quer pegar logo todas as bases presentes no repositório.\n",
    "2. Caso você esteja usando `Linux`, dá para seguir o passo-a-passo mostrado na célula 04 [deste arquivo](https://github.com/ageron/handson-ml3/blob/main/02_end_to_end_machine_learning_project.ipynb).\n",
    "3. Baixar os arquivos `raw` e `md` isoladamente."
   ]
  }
 ],
 "metadata": {
  "kernelspec": {
   "display_name": "MachineLearning",
   "language": "python",
   "name": "python3"
  },
  "language_info": {
   "name": "python",
   "version": "3.11.9"
  }
 },
 "nbformat": 4,
 "nbformat_minor": 2
}

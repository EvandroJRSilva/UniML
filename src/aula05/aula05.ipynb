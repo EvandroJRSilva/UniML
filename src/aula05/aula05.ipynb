{
 "cells": [
  {
   "cell_type": "markdown",
   "metadata": {},
   "source": [
    "# Aula 05\n",
    "\n",
    "Sumário\n",
    "\n",
    "- [Introdução](#introdução)\n",
    "- [Bases de Dados](#bases-de-dados)\n",
    "  - [A base de dados que será utilizada no nosso exemplo](#a-base-de-dados-que-será-utilizada-no-nosso-exemplo)\n",
    "- [Analisando o Panorama Geral](#analisando-o-panorama-geral)\n",
    "  - [Abordando o problema](#abordando-o-problema)\n",
    "  - [Medida de desempenho](#medida-de-desempenho)\n",
    "- [Mão na massa](#mão-na-massa)\n",
    "  - [Separando o conjunto de dados](#separando-o-conjunto-de-dados)\n",
    "\n",
    "## Introdução\n",
    "\n",
    "Vamos seguir o modelo didático do nosso livro-texto. Vamos simular todo um projeto de Aprendizado de Máquina como se fôssemos um cientista de dados contratado por uma empresa de mercado imobiliário. O passo-a-passo que seguiremos:\n",
    "\n",
    "1. Analisar o panorama geral.\n",
    "2. Obter os dados.\n",
    "3. Identificar e visualizar os dados para obter informações úteis.\n",
    "4. Preparar os dados para os algoritmos de AM.\n",
    "5. Selecionar e treinar um modelo.\n",
    "6. Aperfeiçoar o modelo.\n",
    "7. Apresentar a solução.\n",
    "8. Disponibilizar em produção, monitar e fazer a manutenção do sistema.\n",
    "\n",
    "## Bases de Dados\n",
    "\n",
    "As `bases de dados` das empresas são privadas, ou seja, restritas para uso interno. Entretanto, existem alguns sites que disponibilizam dezenas a centenas de `bases de dados` abertos, os quais podemos baixar para aprendermos os variados algoritmos de AM. Essas `bases de dados` abertas são utilizadas também como `benchmark` de novos modelos e métodos.\n",
    "\n",
    "A seguir uma lista de repositórios:\n",
    "\n",
    "* [UCI Irvine ML Repository](http://archive.ics.uci.edu/)\n",
    "* [Kaggle](https://www.kaggle.com/datasets)\n",
    "* [AWS](https://registry.opendata.aws/)\n",
    "\n",
    "Metaportal de dados\n",
    "\n",
    "* [Data Portals](http://dataportals.org/)\n",
    "\n",
    "Páginas com listagem de repositórios\n",
    "\n",
    "* [Wikipedia](https://en.wikipedia.org/wiki/List_of_datasets_for_machine-learning_research)\n",
    "* [Quora](https://www.quora.com/Where-can-I-find-large-datasets-open-to-the-public)\n",
    "* [Reddit](https://www.reddit.com/r/datasets)\n",
    "\n",
    "### A base de dados que será utilizada no nosso exemplo\n",
    "\n",
    "Vamos seguir com o livro e utilizar a mesma base de dados. O `github` do autor é [Ageron](https://github.com/ageron). Os códigos utilizados por ele para a última versão do seu livro é a [Handson ML3](https://github.com/ageron/handson-ml3/tree/main). A base de dados que vamos utilizar está disponível [nesta página](https://github.com/ageron/data/tree/main/housing).\n",
    "\n",
    "Para utilizar essa base você tem as seguintes opções:\n",
    "\n",
    "1. Baixar (ou clonar) o repositório [data](https://github.com/ageron/data/tree/main), e depois pegar somente a base que você quer. Esse caso é o recomendado se você quer pegar logo todas as bases presentes no repositório.\n",
    "2. Caso você esteja usando `Linux`, dá para seguir o passo-a-passo mostrado na célula 04 [deste arquivo](https://github.com/ageron/handson-ml3/blob/main/02_end_to_end_machine_learning_project.ipynb).\n",
    "3. Baixar os arquivos `raw` e `md` isoladamente.\n",
    "\n",
    "O autor fez uns poucos ajustes nos dados para efeitos didáticos.\n",
    "\n",
    "## Analisando o Panorama Geral\n",
    "\n",
    "Bem vindo à Companhia Habitacional. A primeira tarefa será criar um modelo de preços para o setor imobiliário usando os dados do censo do Estado da Califórnia. Esses dados têm indicadores como população, reda média e preço médio do imóvel para cada grupo de bairros. Os grupos de bairros são a menor unidade geográfica para a qual o Departamento de Censo dos Estados Unidos publica dados de amostra (um grupo de bairro geralmente comporta uma população de 600 a 3 mil pessoas). Para abreviar, os chamaremos de \"regiões\".\n",
    "\n",
    "### Abordando o problema\n",
    "\n",
    "Para começar, é interessante adquirir algumas informações sobre o problema, e o que se espera do modelo de AM. Um exemplo de perguntas: Qual é exatamente o objetivo do negócio? Como a empresa espera usar e se beneficar desse modelo?\n",
    "\n",
    "Suponha que seu chefe tenha respondido o seguinte: \"O objetivo do seu modelo é gerar uma predição do preço médio dos imóveis no bairro. Esses dados alimentarão outro sistema de aprendizado de máquina, junto com outros sinais. O sistema estabelecerá se vale a pena investir em uma área ou não\".\n",
    "\n",
    "<div style=\"text-align: center;\">\n",
    "    <img src=\"imagens/figura01.png\"><br>\n",
    "    <caption>Figura 01: Pipeline de aprendizado de máquina para investimentos imobiliários (fonte: livro-texto)</caption>\n",
    "</div>\n",
    "\n",
    "Outra informação importante é sabermos como é a solução atual, ou seja, como a empresa está adquirindo/gerando as predições antes do nosso modelo, caso exista. A resposta pode nos dar algum *insight* sobre o que fazer, com quem falar, ou apenas perceber que a empresa está necessitando mesmo de um modelo que a ajude nessa tarefa.\n",
    "\n",
    "A partir de tudo o que vimos até agora, vamos responder as seguintes questões:\n",
    "\n",
    "* Que tipo de aprendizado devemos usar: supervisionado, não-supervisionado, ou reforço?\n",
    "  * <details><summary>Resposta</summary>Aprendizado Supervisionado</details>\n",
    "* Qual será a tarefa do modelo: classificação, regressão, agrupamento, ou outra coisa?\n",
    "  * <details><summary>Resposta</summary>Regressão</details>\n",
    "* A apresentação dos dados será em *batch* ou *online*?\n",
    "  * <details><summary>Resposta</summary>Batch</details>\n",
    "\n",
    "### Medida de desempenho\n",
    "\n",
    "Agora que já temos definidos o problema e como vamos abordá-lo, devemos definir também uma `medida de desempenho` para o nosso modelo.\n",
    "\n",
    "Uma das `medidas de desempenho` mais utilizada --- senão a mais utilizada --- em `regressão` é a `RMSE` (*Root Mean Square Deviation*, ou Raiz do Erro Quadrático Médio). Essa medida nos dá uma ideia da quantidade de erros gerados pelo modelo em suas predições, dando um peso maior para grandes erros. Descrição mais formal do RMSE, [do site da Oracle](https://docs.oracle.com/cloud/help/pt_BR/pbcs_common/PFUSU/insights_metrics_RMSE.htm#PFUSU-GUID-FD9381A1-81E1-4F6D-8EC4-82A6CE2A6E74):\n",
    "\n",
    "> O Erro Quadrático Médio (RMSE) é o `desvio padrão` dos valores residuais (erros de previsão). Os valores residuais são uma medida de distância entre a linha de regressão e os pontos de dados. O RMSE é uma medida da dispersão desses valores residuais. Em outras palavras, ele informa o quão concentrados os dados estão em torno da linha de melhor ajuste.\n",
    "\n",
    "Vejamos a fórmula:\n",
    "\n",
    "$RMSE = \\sqrt{\\sum^{n}_{i=1}\\dfrac{(\\hat{y_{i}} - y_{i})^{2}}{n}}$, onde\n",
    "\n",
    "* $n$: número de instâncias.\n",
    "* $\\hat{y_{i}}$: valor predito para a instância $i$.\n",
    "* $y_{i}$: valor real da instância $i$.\n",
    "\n",
    "## Mão na massa\n",
    "\n",
    "Vamos carregar os dados:"
   ]
  },
  {
   "cell_type": "code",
   "execution_count": 6,
   "metadata": {},
   "outputs": [
    {
     "data": {
      "text/html": [
       "<div>\n",
       "<style scoped>\n",
       "    .dataframe tbody tr th:only-of-type {\n",
       "        vertical-align: middle;\n",
       "    }\n",
       "\n",
       "    .dataframe tbody tr th {\n",
       "        vertical-align: top;\n",
       "    }\n",
       "\n",
       "    .dataframe thead th {\n",
       "        text-align: right;\n",
       "    }\n",
       "</style>\n",
       "<table border=\"1\" class=\"dataframe\">\n",
       "  <thead>\n",
       "    <tr style=\"text-align: right;\">\n",
       "      <th></th>\n",
       "      <th>longitude</th>\n",
       "      <th>latitude</th>\n",
       "      <th>housing_median_age</th>\n",
       "      <th>total_rooms</th>\n",
       "      <th>total_bedrooms</th>\n",
       "      <th>population</th>\n",
       "      <th>households</th>\n",
       "      <th>median_income</th>\n",
       "      <th>median_house_value</th>\n",
       "      <th>ocean_proximity</th>\n",
       "    </tr>\n",
       "  </thead>\n",
       "  <tbody>\n",
       "    <tr>\n",
       "      <th>0</th>\n",
       "      <td>-122.23</td>\n",
       "      <td>37.88</td>\n",
       "      <td>41.0</td>\n",
       "      <td>880.0</td>\n",
       "      <td>129.0</td>\n",
       "      <td>322.0</td>\n",
       "      <td>126.0</td>\n",
       "      <td>8.3252</td>\n",
       "      <td>452600.0</td>\n",
       "      <td>NEAR BAY</td>\n",
       "    </tr>\n",
       "    <tr>\n",
       "      <th>1</th>\n",
       "      <td>-122.22</td>\n",
       "      <td>37.86</td>\n",
       "      <td>21.0</td>\n",
       "      <td>7099.0</td>\n",
       "      <td>1106.0</td>\n",
       "      <td>2401.0</td>\n",
       "      <td>1138.0</td>\n",
       "      <td>8.3014</td>\n",
       "      <td>358500.0</td>\n",
       "      <td>NEAR BAY</td>\n",
       "    </tr>\n",
       "    <tr>\n",
       "      <th>2</th>\n",
       "      <td>-122.24</td>\n",
       "      <td>37.85</td>\n",
       "      <td>52.0</td>\n",
       "      <td>1467.0</td>\n",
       "      <td>190.0</td>\n",
       "      <td>496.0</td>\n",
       "      <td>177.0</td>\n",
       "      <td>7.2574</td>\n",
       "      <td>352100.0</td>\n",
       "      <td>NEAR BAY</td>\n",
       "    </tr>\n",
       "    <tr>\n",
       "      <th>3</th>\n",
       "      <td>-122.25</td>\n",
       "      <td>37.85</td>\n",
       "      <td>52.0</td>\n",
       "      <td>1274.0</td>\n",
       "      <td>235.0</td>\n",
       "      <td>558.0</td>\n",
       "      <td>219.0</td>\n",
       "      <td>5.6431</td>\n",
       "      <td>341300.0</td>\n",
       "      <td>NEAR BAY</td>\n",
       "    </tr>\n",
       "    <tr>\n",
       "      <th>4</th>\n",
       "      <td>-122.25</td>\n",
       "      <td>37.85</td>\n",
       "      <td>52.0</td>\n",
       "      <td>1627.0</td>\n",
       "      <td>280.0</td>\n",
       "      <td>565.0</td>\n",
       "      <td>259.0</td>\n",
       "      <td>3.8462</td>\n",
       "      <td>342200.0</td>\n",
       "      <td>NEAR BAY</td>\n",
       "    </tr>\n",
       "  </tbody>\n",
       "</table>\n",
       "</div>"
      ],
      "text/plain": [
       "   longitude  latitude  housing_median_age  total_rooms  total_bedrooms  \\\n",
       "0    -122.23     37.88                41.0        880.0           129.0   \n",
       "1    -122.22     37.86                21.0       7099.0          1106.0   \n",
       "2    -122.24     37.85                52.0       1467.0           190.0   \n",
       "3    -122.25     37.85                52.0       1274.0           235.0   \n",
       "4    -122.25     37.85                52.0       1627.0           280.0   \n",
       "\n",
       "   population  households  median_income  median_house_value ocean_proximity  \n",
       "0       322.0       126.0         8.3252            452600.0        NEAR BAY  \n",
       "1      2401.0      1138.0         8.3014            358500.0        NEAR BAY  \n",
       "2       496.0       177.0         7.2574            352100.0        NEAR BAY  \n",
       "3       558.0       219.0         5.6431            341300.0        NEAR BAY  \n",
       "4       565.0       259.0         3.8462            342200.0        NEAR BAY  "
      ]
     },
     "execution_count": 6,
     "metadata": {},
     "output_type": "execute_result"
    }
   ],
   "source": [
    "import pandas as pd\n",
    "\n",
    "# Carregando os dados\n",
    "housing = pd.read_csv(\"../datasets/housing/housing.csv\")\n",
    "\n",
    "# Vamos dar uma olhada rápida\n",
    "housing.head()"
   ]
  },
  {
   "cell_type": "code",
   "execution_count": 7,
   "metadata": {},
   "outputs": [
    {
     "name": "stdout",
     "output_type": "stream",
     "text": [
      "<class 'pandas.core.frame.DataFrame'>\n",
      "RangeIndex: 20640 entries, 0 to 20639\n",
      "Data columns (total 10 columns):\n",
      " #   Column              Non-Null Count  Dtype  \n",
      "---  ------              --------------  -----  \n",
      " 0   longitude           20640 non-null  float64\n",
      " 1   latitude            20640 non-null  float64\n",
      " 2   housing_median_age  20640 non-null  float64\n",
      " 3   total_rooms         20640 non-null  float64\n",
      " 4   total_bedrooms      20433 non-null  float64\n",
      " 5   population          20640 non-null  float64\n",
      " 6   households          20640 non-null  float64\n",
      " 7   median_income       20640 non-null  float64\n",
      " 8   median_house_value  20640 non-null  float64\n",
      " 9   ocean_proximity     20640 non-null  object \n",
      "dtypes: float64(9), object(1)\n",
      "memory usage: 1.6+ MB\n"
     ]
    }
   ],
   "source": [
    "# Vamos ver outras informações\n",
    "housing.info()"
   ]
  },
  {
   "cell_type": "code",
   "execution_count": 8,
   "metadata": {},
   "outputs": [
    {
     "data": {
      "text/plain": [
       "ocean_proximity\n",
       "<1H OCEAN     9136\n",
       "INLAND        6551\n",
       "NEAR OCEAN    2658\n",
       "NEAR BAY      2290\n",
       "ISLAND           5\n",
       "Name: count, dtype: int64"
      ]
     },
     "execution_count": 8,
     "metadata": {},
     "output_type": "execute_result"
    }
   ],
   "source": [
    "# Verificando quantas instâncias para cada valor categórico da coluna ocean_proximity\n",
    "housing['ocean_proximity'].value_counts()"
   ]
  },
  {
   "cell_type": "code",
   "execution_count": 9,
   "metadata": {},
   "outputs": [
    {
     "data": {
      "text/html": [
       "<div>\n",
       "<style scoped>\n",
       "    .dataframe tbody tr th:only-of-type {\n",
       "        vertical-align: middle;\n",
       "    }\n",
       "\n",
       "    .dataframe tbody tr th {\n",
       "        vertical-align: top;\n",
       "    }\n",
       "\n",
       "    .dataframe thead th {\n",
       "        text-align: right;\n",
       "    }\n",
       "</style>\n",
       "<table border=\"1\" class=\"dataframe\">\n",
       "  <thead>\n",
       "    <tr style=\"text-align: right;\">\n",
       "      <th></th>\n",
       "      <th>longitude</th>\n",
       "      <th>latitude</th>\n",
       "      <th>housing_median_age</th>\n",
       "      <th>total_rooms</th>\n",
       "      <th>total_bedrooms</th>\n",
       "      <th>population</th>\n",
       "      <th>households</th>\n",
       "      <th>median_income</th>\n",
       "      <th>median_house_value</th>\n",
       "    </tr>\n",
       "  </thead>\n",
       "  <tbody>\n",
       "    <tr>\n",
       "      <th>count</th>\n",
       "      <td>20640.000000</td>\n",
       "      <td>20640.000000</td>\n",
       "      <td>20640.000000</td>\n",
       "      <td>20640.000000</td>\n",
       "      <td>20433.000000</td>\n",
       "      <td>20640.000000</td>\n",
       "      <td>20640.000000</td>\n",
       "      <td>20640.000000</td>\n",
       "      <td>20640.000000</td>\n",
       "    </tr>\n",
       "    <tr>\n",
       "      <th>mean</th>\n",
       "      <td>-119.569704</td>\n",
       "      <td>35.631861</td>\n",
       "      <td>28.639486</td>\n",
       "      <td>2635.763081</td>\n",
       "      <td>537.870553</td>\n",
       "      <td>1425.476744</td>\n",
       "      <td>499.539680</td>\n",
       "      <td>3.870671</td>\n",
       "      <td>206855.816909</td>\n",
       "    </tr>\n",
       "    <tr>\n",
       "      <th>std</th>\n",
       "      <td>2.003532</td>\n",
       "      <td>2.135952</td>\n",
       "      <td>12.585558</td>\n",
       "      <td>2181.615252</td>\n",
       "      <td>421.385070</td>\n",
       "      <td>1132.462122</td>\n",
       "      <td>382.329753</td>\n",
       "      <td>1.899822</td>\n",
       "      <td>115395.615874</td>\n",
       "    </tr>\n",
       "    <tr>\n",
       "      <th>min</th>\n",
       "      <td>-124.350000</td>\n",
       "      <td>32.540000</td>\n",
       "      <td>1.000000</td>\n",
       "      <td>2.000000</td>\n",
       "      <td>1.000000</td>\n",
       "      <td>3.000000</td>\n",
       "      <td>1.000000</td>\n",
       "      <td>0.499900</td>\n",
       "      <td>14999.000000</td>\n",
       "    </tr>\n",
       "    <tr>\n",
       "      <th>25%</th>\n",
       "      <td>-121.800000</td>\n",
       "      <td>33.930000</td>\n",
       "      <td>18.000000</td>\n",
       "      <td>1447.750000</td>\n",
       "      <td>296.000000</td>\n",
       "      <td>787.000000</td>\n",
       "      <td>280.000000</td>\n",
       "      <td>2.563400</td>\n",
       "      <td>119600.000000</td>\n",
       "    </tr>\n",
       "    <tr>\n",
       "      <th>50%</th>\n",
       "      <td>-118.490000</td>\n",
       "      <td>34.260000</td>\n",
       "      <td>29.000000</td>\n",
       "      <td>2127.000000</td>\n",
       "      <td>435.000000</td>\n",
       "      <td>1166.000000</td>\n",
       "      <td>409.000000</td>\n",
       "      <td>3.534800</td>\n",
       "      <td>179700.000000</td>\n",
       "    </tr>\n",
       "    <tr>\n",
       "      <th>75%</th>\n",
       "      <td>-118.010000</td>\n",
       "      <td>37.710000</td>\n",
       "      <td>37.000000</td>\n",
       "      <td>3148.000000</td>\n",
       "      <td>647.000000</td>\n",
       "      <td>1725.000000</td>\n",
       "      <td>605.000000</td>\n",
       "      <td>4.743250</td>\n",
       "      <td>264725.000000</td>\n",
       "    </tr>\n",
       "    <tr>\n",
       "      <th>max</th>\n",
       "      <td>-114.310000</td>\n",
       "      <td>41.950000</td>\n",
       "      <td>52.000000</td>\n",
       "      <td>39320.000000</td>\n",
       "      <td>6445.000000</td>\n",
       "      <td>35682.000000</td>\n",
       "      <td>6082.000000</td>\n",
       "      <td>15.000100</td>\n",
       "      <td>500001.000000</td>\n",
       "    </tr>\n",
       "  </tbody>\n",
       "</table>\n",
       "</div>"
      ],
      "text/plain": [
       "          longitude      latitude  housing_median_age   total_rooms  \\\n",
       "count  20640.000000  20640.000000        20640.000000  20640.000000   \n",
       "mean    -119.569704     35.631861           28.639486   2635.763081   \n",
       "std        2.003532      2.135952           12.585558   2181.615252   \n",
       "min     -124.350000     32.540000            1.000000      2.000000   \n",
       "25%     -121.800000     33.930000           18.000000   1447.750000   \n",
       "50%     -118.490000     34.260000           29.000000   2127.000000   \n",
       "75%     -118.010000     37.710000           37.000000   3148.000000   \n",
       "max     -114.310000     41.950000           52.000000  39320.000000   \n",
       "\n",
       "       total_bedrooms    population    households  median_income  \\\n",
       "count    20433.000000  20640.000000  20640.000000   20640.000000   \n",
       "mean       537.870553   1425.476744    499.539680       3.870671   \n",
       "std        421.385070   1132.462122    382.329753       1.899822   \n",
       "min          1.000000      3.000000      1.000000       0.499900   \n",
       "25%        296.000000    787.000000    280.000000       2.563400   \n",
       "50%        435.000000   1166.000000    409.000000       3.534800   \n",
       "75%        647.000000   1725.000000    605.000000       4.743250   \n",
       "max       6445.000000  35682.000000   6082.000000      15.000100   \n",
       "\n",
       "       median_house_value  \n",
       "count        20640.000000  \n",
       "mean        206855.816909  \n",
       "std         115395.615874  \n",
       "min          14999.000000  \n",
       "25%         119600.000000  \n",
       "50%         179700.000000  \n",
       "75%         264725.000000  \n",
       "max         500001.000000  "
      ]
     },
     "execution_count": 9,
     "metadata": {},
     "output_type": "execute_result"
    }
   ],
   "source": [
    "# Outras informações\n",
    "housing.describe()"
   ]
  },
  {
   "cell_type": "code",
   "execution_count": 13,
   "metadata": {},
   "outputs": [
    {
     "data": {
      "image/png": "[encoded data removed]",
      "text/plain": [
       "<Figure size 1200x800 with 9 Axes>"
      ]
     },
     "metadata": {},
     "output_type": "display_data"
    }
   ],
   "source": [
    "# Vamos ver o histograma de cada atributo numérico\n",
    "import matplotlib.pyplot as plt\n",
    "\n",
    "# Ajustando o tamanho das fontes\n",
    "plt.rc('font', size=14)\n",
    "plt.rc('axes', labelsize=14, titlesize=14)\n",
    "plt.rc('legend', fontsize=14)\n",
    "plt.rc('xtick', labelsize=8)\n",
    "plt.rc('ytick', labelsize=8)\n",
    "\n",
    "housing.hist(bins=50,figsize=(12,8))\n",
    "plt.show() #opcional no jupyter notebook"
   ]
  },
  {
   "cell_type": "markdown",
   "metadata": {},
   "source": [
    "A partir do histograma já conseguimos visualizar algumas propriedades interessantes da base:\n",
    "\n",
    "1. A **mediana de renda** (*median_income*). Nos EUA a renda é mostrada como o valor ganho anualmente. Então, se uma pessoa ganha 5K mensais, sua renda é 60K anuais. Mas no gráfico aparecem de 0.5 até 15 --- o pior é que já deveríamos ter visto isso quando executamos o `housing.describe()`. Em uma situação real você deveria entrar em contato com a empresa, com os responsáveis pela coleta dos dados para saber o que aconteceu neste caso. Supondo que você entrou em contato, a equipe respondeu que os valores foram redimensionados para a faixa de valores entre 0 e 15. Ou seja, não há com o que se preocupar neste caso.\n",
    "2. Outra característica que chamou atenção foram os plots de `house_median_age` e `median_house_value`. Perceba que há uma quantidade enorme de instâncias para o último valor. Este é, novamente, um caso para vermos com a equipe que coletou os dados. Descobrimos então que as idades acima de 50 anos eram desconsideradas e marcadas como 50, e também valores acima de 500K eram desconsiderados e marcados como 500K. Porém, o atributo `median_house_value` é justamente o que queremos prever. Se utilizarmos os dados como estão agora, nosso modelo pode acabar aprendendo que nenhuma casa passa de 500K de valor (o que não é verdade). O que fazer? Temos duas opções:\n",
    "   1. Coletar os valores adequados das casas que valem mais de 500K.\n",
    "   2. Remover todas as instâncias de 500K, o que poderá permitir ao modelo prever valores além disso.\n",
    "3. Os atributos possuem escalas muito diferentes. É possível lidarmos com isso mais a frente.\n",
    "4. Alguns histogramas mostram casos de `heavy tails` ou \"caudas longas\". Esse tipo de distribuição dos dados podem afetar a detecção de padrões, e teremos de nos adaptar a isso.\n",
    "\n",
    "### Separando o conjunto de dados\n",
    "\n",
    "Como vimos anteriormente, precisamos separar os dados em conjuntos de treinamento e teste. Vamos fazer uma separação \"simplificada\", ou seja, selecionar aleatoriamente um conjunto pequeno de dados e separá-los no `conjunto de teste`, e o restante usaremos como o `conjunto de treinamento`."
   ]
  },
  {
   "cell_type": "code",
   "execution_count": 14,
   "metadata": {},
   "outputs": [],
   "source": [
    "import numpy as np\n",
    "\n",
    "def shuffle_and_split_data(data, test_ratio):\n",
    "    # Embaralhando os índices\n",
    "    shuffle_indices = np.random.permutation(len(data))\n",
    "    # Calculando a quantidade de instâncias para o conjunto de teste\n",
    "    test_set_size = int(len(data) * test_ratio)\n",
    "    # Selecionando o conjunto de teste, do índice 0 até test_set_size - 1\n",
    "    test_indices = shuffle_indices[:test_set_size]\n",
    "    # Selecionando o conjunto de treinamento, do índice teste_set_size até o fim\n",
    "    train_indices = shuffle_indices[test_set_size:]\n",
    "    # Retornando os índices dos conjuntos de treinamento e teste\n",
    "    return data.iloc[train_indices], data.iloc[test_indices]"
   ]
  },
  {
   "cell_type": "code",
   "execution_count": 15,
   "metadata": {},
   "outputs": [
    {
     "data": {
      "text/plain": [
       "16512"
      ]
     },
     "execution_count": 15,
     "metadata": {},
     "output_type": "execute_result"
    }
   ],
   "source": [
    "# Dividindo os dados\n",
    "train_set, test_set = shuffle_and_split_data(housing, 0.2)\n",
    "len(train_set)"
   ]
  },
  {
   "cell_type": "code",
   "execution_count": 16,
   "metadata": {},
   "outputs": [
    {
     "data": {
      "text/plain": [
       "4128"
      ]
     },
     "execution_count": 16,
     "metadata": {},
     "output_type": "execute_result"
    }
   ],
   "source": [
    "len(test_set)"
   ]
  },
  {
   "cell_type": "markdown",
   "metadata": {},
   "source": [
    "Toda vez que executamos as 3 células acima, nosso conjunto de treinamento e teste sempre será diferente. Isso significa que toda vez que fizermos o treinamento e executamos o teste, teremos valores de resultados diferentes. A princípio isso não é necessariamente algo ruim, e podemos lidar com isso melhor com o uso do `k-fold`. Deixaremos para utilizá-lo em um futuro próximo.\n",
    "\n",
    "Para evitar que isso ocorra, ou seja, para que o conjunto de teste e treinamento sejam iguais, ou o mais parecidos possível, você deve configurar a *seed* para o método `random` do `numpy` antes de executar o `random.permutation()`. Por exemplo:\n",
    "\n",
    "```python\n",
    "np.random.seed(42)\n",
    "```\n",
    "\n",
    "No livro-texto você pode encontrar outras alternativas. Mas não precisamos bater cabeça com isso, pois o `scikit-learn` já faz isso por nós."
   ]
  },
  {
   "cell_type": "code",
   "execution_count": 17,
   "metadata": {},
   "outputs": [],
   "source": [
    "from sklearn.model_selection import train_test_split\n",
    "\n",
    "train_set, test_set = train_test_split(housing, test_size=0.2, random_state=42)"
   ]
  },
  {
   "cell_type": "markdown",
   "metadata": {},
   "source": [
    "A separação dos conjuntos é feita de forma aleatória. Entretanto, uma separação aleatória pode acabar introduzindo algum viés ao selecionar para o conjunto de treinamento uma amostra com diferenças do conjunto de teste. Por exemplo, se tivermos uma base de dados com cerca de 45% de homens e 55% de mulheres e fizermos uma separação aleatória, é possível que no conjunto de treinamento tenhamos 70% de homens e 30% de mulheres, o que não corresponde com a realidade.\n",
    "\n",
    "A solução para isso é fazer a separação de forma `estratificada`, ou seja, levamos em consideração alguma característica importante no momento da divisão dos dados.\n",
    "\n",
    "Suponha que a equipe que coletou os dados tenha dito que o atributo `median_income` é importante e, por isso, deve ser levado em consideração. Além disso eles nos informaram que esse atributo pode ser categorizado em cinco faixas: 0 a 1.5, 1.5 a 3.0, 3.0 a 4.5 e 4.5 a 6. Nós podemos criar uma coluna a mais para registrar essa informação:"
   ]
  },
  {
   "cell_type": "code",
   "execution_count": 20,
   "metadata": {},
   "outputs": [
    {
     "data": {
      "image/png": "[encoded data removed]",
      "text/plain": [
       "<Figure size 640x480 with 1 Axes>"
      ]
     },
     "metadata": {},
     "output_type": "display_data"
    }
   ],
   "source": [
    "housing[\"income_cat\"] = pd.cut(housing[\"median_income\"], bins=[0., 1.5, 3.0, 4.5, 6., np.inf], labels=[1, 2, 3, 4, 5])\n",
    "\n",
    "housing[\"income_cat\"].value_counts().sort_index().plot.bar(rot=0, grid=True)\n",
    "plt.xlabel(\"Categorias de renda\")\n",
    "plt.ylabel(\"Quantidade de distritos\")\n",
    "plt.show()"
   ]
  },
  {
   "cell_type": "markdown",
   "metadata": {},
   "source": [
    "Agora podemos separar os dados de forma estratificada, considerando o novo atributo:"
   ]
  },
  {
   "cell_type": "code",
   "execution_count": 21,
   "metadata": {},
   "outputs": [
    {
     "data": {
      "text/plain": [
       "income_cat\n",
       "3    0.350533\n",
       "2    0.318798\n",
       "4    0.176357\n",
       "5    0.114341\n",
       "1    0.039971\n",
       "Name: count, dtype: float64"
      ]
     },
     "execution_count": 21,
     "metadata": {},
     "output_type": "execute_result"
    }
   ],
   "source": [
    "from sklearn.model_selection import StratifiedShuffleSplit\n",
    "\n",
    "split = StratifiedShuffleSplit(n_splits=1, test_size=0.2,random_state=42)\n",
    "for train_index, test_index in split.split(housing, housing[\"income_cat\"]):\n",
    "    strat_train_set = housing.loc[train_index]\n",
    "    strat_test_set = housing.loc[test_index]\n",
    "    \n",
    "# Verificando a amostragem estratificada\n",
    "strat_test_set[\"income_cat\"].value_counts()/len(strat_test_set)"
   ]
  },
  {
   "cell_type": "markdown",
   "metadata": {},
   "source": [
    "A amostragem estratificada foi apenas uma exemplificação. Agora devemos excluir a coluna para que os dados voltem ao estado original:"
   ]
  },
  {
   "cell_type": "code",
   "execution_count": null,
   "metadata": {},
   "outputs": [],
   "source": [
    "for conjunto in (strat_train_set, strat_test_set):\n",
    "    conjunto.drop(\"income_cat\", axis=1, inplace=True)"
   ]
  }
 ],
 "metadata": {
  "kernelspec": {
   "display_name": "MachineLearning",
   "language": "python",
   "name": "python3"
  },
  "language_info": {
   "codemirror_mode": {
    "name": "ipython",
    "version": 3
   },
   "file_extension": ".py",
   "mimetype": "text/x-python",
   "name": "python",
   "nbconvert_exporter": "python",
   "pygments_lexer": "ipython3",
   "version": "3.11.9"
  }
 },
 "nbformat": 4,
 "nbformat_minor": 2
}
